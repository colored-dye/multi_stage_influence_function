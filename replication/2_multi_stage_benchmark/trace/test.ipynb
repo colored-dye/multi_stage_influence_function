{
 "cells": [
  {
   "cell_type": "markdown",
   "metadata": {},
   "source": [
    "## Test data"
   ]
  },
  {
   "cell_type": "code",
   "execution_count": null,
   "metadata": {},
   "outputs": [],
   "source": [
    "import utils\n",
    "\n",
    "test_data = utils.load_lama_raw(\"../data/LAMA/TREx/\")"
   ]
  },
  {
   "cell_type": "code",
   "execution_count": null,
   "metadata": {},
   "outputs": [],
   "source": [
    "len(test_data)"
   ]
  },
  {
   "cell_type": "code",
   "execution_count": null,
   "metadata": {},
   "outputs": [],
   "source": [
    "import numpy as np\n",
    "import json\n",
    "\n",
    "# topk = 2\n",
    "\n",
    "np.random.seed(42)\n",
    "n_selections = 200\n",
    "selections = np.random.choice(len(test_data), (3, n_selections), replace=False).tolist()\n",
    "\n",
    "with open(\"test_data_selections.json\", \"w\") as fp:\n",
    "    json.dump(selections, fp)"
   ]
  },
  {
   "cell_type": "markdown",
   "metadata": {},
   "source": [
    "## Reranker candidates"
   ]
  },
  {
   "cell_type": "code",
   "execution_count": null,
   "metadata": {},
   "outputs": [],
   "source": [
    "from datasets import load_from_disk\n",
    "from tqdm import tqdm\n",
    "\n",
    "import utils\n",
    "\n",
    "train_data = load_from_disk(\"../data/HF_TREX_sentences\")\n",
    "    \n",
    "test_data = utils.load_lama_raw(\"../data/LAMA/TREx\")\n"
   ]
  },
  {
   "cell_type": "code",
   "execution_count": null,
   "metadata": {},
   "outputs": [],
   "source": [
    "import json\n",
    "\n",
    "with open(\"test_data_selections.json\", \"r\") as fp:\n",
    "    test_data_selected_indices = json.load(fp)\n",
    "test_data_selected_indices = test_data_selected_indices[0]\n"
   ]
  },
  {
   "cell_type": "code",
   "execution_count": null,
   "metadata": {},
   "outputs": [],
   "source": [
    "with open(\"../data/fact_to_ids.json\", 'r') as fp:\n",
    "    fact_to_ids = json.load(fp)"
   ]
  },
  {
   "cell_type": "code",
   "execution_count": null,
   "metadata": {},
   "outputs": [],
   "source": [
    "def test_data_proponents(test_data_selections):\n",
    "    proponents = []\n",
    "    for rec in test_data_selections:\n",
    "        predicate = rec['predicate_id']\n",
    "        obj = rec['obj_uri']\n",
    "        sub = rec['sub_uri']\n",
    "        fact = \",\".join((predicate, sub, obj))\n",
    "        proponents.append(fact_to_ids[fact])\n",
    "    return proponents\n",
    "\n",
    "test_data_selections = [test_data[i] for i in test_data_selected_indices]\n",
    "proponents = test_data_proponents(test_data_selections)"
   ]
  },
  {
   "cell_type": "code",
   "execution_count": null,
   "metadata": {},
   "outputs": [],
   "source": [
    "def samples_with_same_obj_in_trex(trex, objs):\n",
    "    res = {}\n",
    "    for index, rec in enumerate(tqdm(trex)):\n",
    "        for fact in rec['facts']:\n",
    "            predicate, sub, obj = fact.split(\",\")\n",
    "            if obj in objs:\n",
    "                ids = res.setdefault(obj, set())\n",
    "                ids.add(index)\n",
    "    for n, ids in res.items():\n",
    "        res[n] = sorted(list(ids))\n",
    "    return res\n",
    "\n",
    "\n",
    "target_sharing_ids = samples_with_same_obj_in_trex(train_data, [x['obj_uri'] for x in test_data])\n"
   ]
  },
  {
   "cell_type": "code",
   "execution_count": null,
   "metadata": {},
   "outputs": [],
   "source": [
    "with open(\"target_sharing_ids.json\", \"w\") as fp:\n",
    "    json.dump(target_sharing_ids, fp)"
   ]
  }
 ],
 "metadata": {
  "language_info": {
   "name": "python"
  }
 },
 "nbformat": 4,
 "nbformat_minor": 2
}
